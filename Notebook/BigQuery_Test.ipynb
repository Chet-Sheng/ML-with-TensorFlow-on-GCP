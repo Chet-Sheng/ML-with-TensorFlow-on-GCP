{
 "cells": [
  {
   "cell_type": "code",
   "execution_count": 1,
   "metadata": {},
   "outputs": [],
   "source": [
    "import google\n",
    "import os"
   ]
  },
  {
   "cell_type": "code",
   "execution_count": 3,
   "metadata": {},
   "outputs": [
    {
     "name": "stderr",
     "output_type": "stream",
     "text": [
      "/usr/lib/python3.6/site-packages/google/auth/_default.py:66: UserWarning: Your application has authenticated using end user credentials from Google Cloud SDK. We recommend that most server applications use service accounts instead. If your application continues to use end user credentials from Cloud SDK, you might receive a \"quota exceeded\" or \"API not enabled\" error. For more information about service accounts, see https://cloud.google.com/docs/authentication/.\n",
      "  warnings.warn(_CLOUD_SDK_CREDENTIALS_WARNING)\n",
      "/usr/lib/python3.6/site-packages/google/auth/_default.py:66: UserWarning: Your application has authenticated using end user credentials from Google Cloud SDK. We recommend that most server applications use service accounts instead. If your application continues to use end user credentials from Cloud SDK, you might receive a \"quota exceeded\" or \"API not enabled\" error. For more information about service accounts, see https://cloud.google.com/docs/authentication/.\n",
      "  warnings.warn(_CLOUD_SDK_CREDENTIALS_WARNING)\n"
     ]
    }
   ],
   "source": [
    "from google.cloud import bigquery\n",
    "\n",
    "client = bigquery.Client()"
   ]
  },
  {
   "cell_type": "markdown",
   "metadata": {},
   "source": [
    "https://cloud.google.com/bigquery/docs/python-client-migration"
   ]
  },
  {
   "cell_type": "code",
   "execution_count": 4,
   "metadata": {},
   "outputs": [
    {
     "data": {
      "text/plain": [
       "'1.5.0'"
      ]
     },
     "execution_count": 4,
     "metadata": {},
     "output_type": "execute_result"
    }
   ],
   "source": [
    "bigquery.__version__"
   ]
  },
  {
   "cell_type": "code",
   "execution_count": 5,
   "metadata": {},
   "outputs": [
    {
     "name": "stderr",
     "output_type": "stream",
     "text": [
      "/usr/lib/python3.6/site-packages/google/auth/_default.py:66: UserWarning: Your application has authenticated using end user credentials from Google Cloud SDK. We recommend that most server applications use service accounts instead. If your application continues to use end user credentials from Cloud SDK, you might receive a \"quota exceeded\" or \"API not enabled\" error. For more information about service accounts, see https://cloud.google.com/docs/authentication/.\n",
      "  warnings.warn(_CLOUD_SDK_CREDENTIALS_WARNING)\n",
      "/usr/lib/python3.6/site-packages/google/auth/_default.py:66: UserWarning: Your application has authenticated using end user credentials from Google Cloud SDK. We recommend that most server applications use service accounts instead. If your application continues to use end user credentials from Cloud SDK, you might receive a \"quota exceeded\" or \"API not enabled\" error. For more information about service accounts, see https://cloud.google.com/docs/authentication/.\n",
      "  warnings.warn(_CLOUD_SDK_CREDENTIALS_WARNING)\n"
     ]
    },
    {
     "name": "stdout",
     "output_type": "stream",
     "text": [
      "Row(('Bessie',), {'name': 0})\n",
      "Row(('Alma',), {'name': 0})\n",
      "Row(('Viola',), {'name': 0})\n",
      "Row(('Katherine',), {'name': 0})\n",
      "Row(('Ada',), {'name': 0})\n",
      "Row(('Lucy',), {'name': 0})\n",
      "Row(('Nina',), {'name': 0})\n",
      "Row(('Marguerite',), {'name': 0})\n",
      "Row(('Nancy',), {'name': 0})\n",
      "Row(('Audrey',), {'name': 0})\n",
      "Row(('Kathleen',), {'name': 0})\n",
      "Row(('Caroline',), {'name': 0})\n",
      "Row(('Ramona',), {'name': 0})\n",
      "Row(('Merle',), {'name': 0})\n",
      "Row(('Oma',), {'name': 0})\n",
      "Row(('Sue',), {'name': 0})\n",
      "Row(('Johnie',), {'name': 0})\n",
      "Row(('Linnie',), {'name': 0})\n",
      "Row(('Zelma',), {'name': 0})\n",
      "Row(('Amanda',), {'name': 0})\n",
      "Row(('Henrietta',), {'name': 0})\n",
      "Row(('Maud',), {'name': 0})\n",
      "Row(('Angela',), {'name': 0})\n",
      "Row(('Adell',), {'name': 0})\n",
      "Row(('Easter',), {'name': 0})\n",
      "Row(('Gregoria',), {'name': 0})\n",
      "Row(('Nona',), {'name': 0})\n",
      "Row(('Florine',), {'name': 0})\n",
      "Row(('Myra',), {'name': 0})\n",
      "Row(('Vena',), {'name': 0})\n",
      "Row(('Herminia',), {'name': 0})\n",
      "Row(('Lavada',), {'name': 0})\n",
      "Row(('Alene',), {'name': 0})\n",
      "Row(('Blanch',), {'name': 0})\n",
      "Row(('Clemmie',), {'name': 0})\n",
      "Row(('Jettie',), {'name': 0})\n",
      "Row(('Nan',), {'name': 0})\n",
      "Row(('Ofelia',), {'name': 0})\n",
      "Row(('Dezzie',), {'name': 0})\n",
      "Row(('Emmie',), {'name': 0})\n",
      "Row(('Lorean',), {'name': 0})\n",
      "Row(('Macie',), {'name': 0})\n",
      "Row(('Odell',), {'name': 0})\n",
      "Row(('Willie',), {'name': 0})\n",
      "Row(('Mildred',), {'name': 0})\n",
      "Row(('Jessie',), {'name': 0})\n",
      "Row(('Vera',), {'name': 0})\n",
      "Row(('Nellie',), {'name': 0})\n",
      "Row(('Inez',), {'name': 0})\n",
      "Row(('Eula',), {'name': 0})\n",
      "Row(('Katie',), {'name': 0})\n",
      "Row(('Geneva',), {'name': 0})\n",
      "Row(('Winnie',), {'name': 0})\n",
      "Row(('Essie',), {'name': 0})\n",
      "Row(('Cleo',), {'name': 0})\n",
      "Row(('Maurine',), {'name': 0})\n",
      "Row(('Antonia',), {'name': 0})\n",
      "Row(('Lizzie',), {'name': 0})\n",
      "Row(('Janie',), {'name': 0})\n",
      "Row(('Gracie',), {'name': 0})\n",
      "Row(('Sallie',), {'name': 0})\n",
      "Row(('Adela',), {'name': 0})\n",
      "Row(('Dessie',), {'name': 0})\n",
      "Row(('Elva',), {'name': 0})\n",
      "Row(('Elma',), {'name': 0})\n",
      "Row(('Angelita',), {'name': 0})\n",
      "Row(('Mayme',), {'name': 0})\n",
      "Row(('Leonor',), {'name': 0})\n",
      "Row(('Cecilia',), {'name': 0})\n",
      "Row(('Elena',), {'name': 0})\n",
      "Row(('Rosetta',), {'name': 0})\n",
      "Row(('Fern',), {'name': 0})\n",
      "Row(('Cassie',), {'name': 0})\n",
      "Row(('Mercedes',), {'name': 0})\n",
      "Row(('Hannah',), {'name': 0})\n",
      "Row(('Zella',), {'name': 0})\n",
      "Row(('Arlene',), {'name': 0})\n",
      "Row(('Elna',), {'name': 0})\n",
      "Row(('Gwendolyn',), {'name': 0})\n",
      "Row(('Tressie',), {'name': 0})\n",
      "Row(('Velva',), {'name': 0})\n",
      "Row(('Zelda',), {'name': 0})\n",
      "Row(('Althea',), {'name': 0})\n",
      "Row(('Donnie',), {'name': 0})\n",
      "Row(('Florene',), {'name': 0})\n",
      "Row(('Retha',), {'name': 0})\n",
      "Row(('Shirley',), {'name': 0})\n",
      "Row(('Susan',), {'name': 0})\n",
      "Row(('Angie',), {'name': 0})\n",
      "Row(('Exa',), {'name': 0})\n",
      "Row(('Felicitas',), {'name': 0})\n",
      "Row(('Kay',), {'name': 0})\n",
      "Row(('Tillie',), {'name': 0})\n",
      "Row(('Vernon',), {'name': 0})\n",
      "Row(('Vesta',), {'name': 0})\n",
      "Row(('Jose',), {'name': 0})\n",
      "Row(('Eugene',), {'name': 0})\n",
      "Row(('Santiago',), {'name': 0})\n",
      "Row(('Allen',), {'name': 0})\n",
      "Row(('Odis',), {'name': 0})\n"
     ]
    }
   ],
   "source": [
    "from google.cloud import bigquery\n",
    "client = bigquery.Client()\n",
    "\n",
    "query = (\n",
    "    'SELECT name FROM `bigquery-public-data.usa_names.usa_1910_2013` '\n",
    "    'WHERE state = \"TX\" '\n",
    "    'LIMIT 100')\n",
    "query_job = client.query(\n",
    "    query,\n",
    "    # Location must match that of the dataset(s) referenced in the query.\n",
    "    location='US')  # API request - starts the query\n",
    "\n",
    "for row in query_job:  # API request - fetches results\n",
    "    # Row values can be accessed by field name or index\n",
    "    assert row[0] == row.name == row['name']\n",
    "    print(row)"
   ]
  },
  {
   "cell_type": "code",
   "execution_count": 6,
   "metadata": {},
   "outputs": [
    {
     "name": "stderr",
     "output_type": "stream",
     "text": [
      "/usr/lib/python3.6/site-packages/google/auth/_default.py:66: UserWarning: Your application has authenticated using end user credentials from Google Cloud SDK. We recommend that most server applications use service accounts instead. If your application continues to use end user credentials from Cloud SDK, you might receive a \"quota exceeded\" or \"API not enabled\" error. For more information about service accounts, see https://cloud.google.com/docs/authentication/.\n",
      "  warnings.warn(_CLOUD_SDK_CREDENTIALS_WARNING)\n",
      "/usr/lib/python3.6/site-packages/google/auth/_default.py:66: UserWarning: Your application has authenticated using end user credentials from Google Cloud SDK. We recommend that most server applications use service accounts instead. If your application continues to use end user credentials from Cloud SDK, you might receive a \"quota exceeded\" or \"API not enabled\" error. For more information about service accounts, see https://cloud.google.com/docs/authentication/.\n",
      "  warnings.warn(_CLOUD_SDK_CREDENTIALS_WARNING)\n"
     ]
    },
    {
     "ename": "FileNotFoundError",
     "evalue": "[Errno 2] No such file or directory: 'csv_file.csv'",
     "output_type": "error",
     "traceback": [
      "\u001b[0;31m---------------------------------------------------------------------------\u001b[0m",
      "\u001b[0;31mFileNotFoundError\u001b[0m                         Traceback (most recent call last)",
      "\u001b[0;32m<ipython-input-6-55b37a328da2>\u001b[0m in \u001b[0;36m<module>\u001b[0;34m()\u001b[0m\n\u001b[1;32m     20\u001b[0m \u001b[0;31m#     Name,Age\u001b[0m\u001b[0;34m\u001b[0m\u001b[0;34m\u001b[0m\u001b[0m\n\u001b[1;32m     21\u001b[0m \u001b[0;31m#     Tim,99\u001b[0m\u001b[0;34m\u001b[0m\u001b[0;34m\u001b[0m\u001b[0m\n\u001b[0;32m---> 22\u001b[0;31m \u001b[0;32mwith\u001b[0m \u001b[0mopen\u001b[0m\u001b[0;34m(\u001b[0m\u001b[0;34m'csv_file.csv'\u001b[0m\u001b[0;34m,\u001b[0m \u001b[0;34m'rb'\u001b[0m\u001b[0;34m)\u001b[0m \u001b[0;32mas\u001b[0m \u001b[0mreadable\u001b[0m\u001b[0;34m:\u001b[0m\u001b[0;34m\u001b[0m\u001b[0m\n\u001b[0m\u001b[1;32m     23\u001b[0m     client.load_table_from_file(\n\u001b[1;32m     24\u001b[0m         readable, table_ref, job_config=load_config)  # API request\n",
      "\u001b[0;31mFileNotFoundError\u001b[0m: [Errno 2] No such file or directory: 'csv_file.csv'"
     ]
    }
   ],
   "source": [
    "import csv\n",
    "\n",
    "from google.cloud import bigquery\n",
    "from google.cloud.bigquery import LoadJobConfig\n",
    "from google.cloud.bigquery import SchemaField\n",
    "\n",
    "client = bigquery.Client()\n",
    "\n",
    "SCHEMA = [\n",
    "    SchemaField('full_name', 'STRING', mode='required'),\n",
    "    SchemaField('age', 'INTEGER', mode='required'),\n",
    "]\n",
    "table_ref = client.dataset('dataset_name').table('table_name')\n",
    "\n",
    "load_config = LoadJobConfig()\n",
    "load_config.skip_leading_rows = 1\n",
    "load_config.schema = SCHEMA\n",
    "\n",
    "# Contents of csv_file.csv:\n",
    "#     Name,Age\n",
    "#     Tim,99\n",
    "with open('csv_file.csv', 'rb') as readable:\n",
    "    client.load_table_from_file(\n",
    "        readable, table_ref, job_config=load_config)  # API request"
   ]
  },
  {
   "cell_type": "code",
   "execution_count": 13,
   "metadata": {},
   "outputs": [
    {
     "ename": "AttributeError",
     "evalue": "'Client' object has no attribute 'query'",
     "output_type": "error",
     "traceback": [
      "\u001b[0;31m---------------------------------------------------------------------------\u001b[0m",
      "\u001b[0;31mAttributeError\u001b[0m                            Traceback (most recent call last)",
      "\u001b[0;32m<ipython-input-13-87740804c8db>\u001b[0m in \u001b[0;36m<module>\u001b[0;34m()\u001b[0m\n\u001b[1;32m      4\u001b[0m     \u001b[0;34m'WHERE state = \"TX\" '\u001b[0m\u001b[0;34m\u001b[0m\u001b[0m\n\u001b[1;32m      5\u001b[0m     'LIMIT 100')\n\u001b[0;32m----> 6\u001b[0;31m \u001b[0mquery_job\u001b[0m \u001b[0;34m=\u001b[0m \u001b[0mclient\u001b[0m\u001b[0;34m.\u001b[0m\u001b[0mquery\u001b[0m\u001b[0;34m(\u001b[0m\u001b[0mQUERY\u001b[0m\u001b[0;34m)\u001b[0m  \u001b[0;31m# API request\u001b[0m\u001b[0;34m\u001b[0m\u001b[0m\n\u001b[0m\u001b[1;32m      7\u001b[0m \u001b[0mrows\u001b[0m \u001b[0;34m=\u001b[0m \u001b[0mquery_job\u001b[0m\u001b[0;34m.\u001b[0m\u001b[0mresult\u001b[0m\u001b[0;34m(\u001b[0m\u001b[0;34m)\u001b[0m\u001b[0;34m\u001b[0m\u001b[0m\n",
      "\u001b[0;31mAttributeError\u001b[0m: 'Client' object has no attribute 'query'"
     ]
    }
   ],
   "source": [
    "# Perform a query.\n",
    "QUERY = (\n",
    "    'SELECT name FROM `bigquery-public-data.usa_names.usa_1910_2013` '\n",
    "    'WHERE state = \"TX\" '\n",
    "    'LIMIT 100')\n",
    "query_job = client.query(QUERY)  # API request\n",
    "rows = query_job.result()"
   ]
  },
  {
   "cell_type": "code",
   "execution_count": 31,
   "metadata": {},
   "outputs": [
    {
     "ename": "AttributeError",
     "evalue": "'Client' object has no attribute 'query'",
     "output_type": "error",
     "traceback": [
      "\u001b[0;31m---------------------------------------------------------------------------\u001b[0m",
      "\u001b[0;31mAttributeError\u001b[0m                            Traceback (most recent call last)",
      "\u001b[0;32m<ipython-input-31-8fbb516b2334>\u001b[0m in \u001b[0;36m<module>\u001b[0;34m()\u001b[0m\n\u001b[1;32m      4\u001b[0m     \u001b[0;34m'WHERE state = \"TX\" '\u001b[0m\u001b[0;34m\u001b[0m\u001b[0m\n\u001b[1;32m      5\u001b[0m     'LIMIT 100')\n\u001b[0;32m----> 6\u001b[0;31m \u001b[0mquery_job\u001b[0m \u001b[0;34m=\u001b[0m \u001b[0mclient\u001b[0m\u001b[0;34m.\u001b[0m\u001b[0mquery\u001b[0m\u001b[0;34m(\u001b[0m\u001b[0mQUERY\u001b[0m\u001b[0;34m)\u001b[0m  \u001b[0;31m# API request\u001b[0m\u001b[0;34m\u001b[0m\u001b[0m\n\u001b[0m\u001b[1;32m      7\u001b[0m \u001b[0mrows\u001b[0m \u001b[0;34m=\u001b[0m \u001b[0mquery_job\u001b[0m\u001b[0;34m.\u001b[0m\u001b[0mresult\u001b[0m\u001b[0;34m(\u001b[0m\u001b[0;34m)\u001b[0m  \u001b[0;31m# Waits for query to finish\u001b[0m\u001b[0;34m\u001b[0m\u001b[0m\n\u001b[1;32m      8\u001b[0m \u001b[0;34m\u001b[0m\u001b[0m\n",
      "\u001b[0;31mAttributeError\u001b[0m: 'Client' object has no attribute 'query'"
     ]
    }
   ],
   "source": [
    "# Perform a query.\n",
    "QUERY = (\n",
    "    'SELECT name FROM `bigquery-public-data.usa_names.usa_1910_2013` '\n",
    "    'WHERE state = \"TX\" '\n",
    "    'LIMIT 100')\n",
    "query_job = client.query(QUERY)  # API request\n",
    "rows = query_job.result()  # Waits for query to finish\n",
    "\n",
    "for row in rows:\n",
    "    print(row.name)"
   ]
  },
  {
   "cell_type": "code",
   "execution_count": 28,
   "metadata": {
    "collapsed": true
   },
   "outputs": [],
   "source": [
    "query = (\n",
    "    'SELECT name FROM `bigquery-public-data.usa_names.usa_1910_2013` '\n",
    "    'WHERE state = \"TX\" '\n",
    "    'LIMIT 100')\n",
    "query_job = client.run_sync_query(\n",
    "    query)#,\n",
    "    # Location must match that of the dataset(s) referenced in the query.\n",
    "#     location='US')  # API request - starts the query\n"
   ]
  },
  {
   "cell_type": "code",
   "execution_count": 26,
   "metadata": {},
   "outputs": [
    {
     "ename": "TypeError",
     "evalue": "'QueryResults' object is not iterable",
     "output_type": "error",
     "traceback": [
      "\u001b[0;31m---------------------------------------------------------------------------\u001b[0m",
      "\u001b[0;31mTypeError\u001b[0m                                 Traceback (most recent call last)",
      "\u001b[0;32m<ipython-input-26-df32f5c265bd>\u001b[0m in \u001b[0;36m<module>\u001b[0;34m()\u001b[0m\n\u001b[0;32m----> 1\u001b[0;31m \u001b[0;32mfor\u001b[0m \u001b[0mrow\u001b[0m \u001b[0;32min\u001b[0m \u001b[0mquery_job\u001b[0m\u001b[0;34m:\u001b[0m  \u001b[0;31m# API request - fetches results\u001b[0m\u001b[0;34m\u001b[0m\u001b[0m\n\u001b[0m\u001b[1;32m      2\u001b[0m     \u001b[0;31m# Row values can be accessed by field name or index\u001b[0m\u001b[0;34m\u001b[0m\u001b[0;34m\u001b[0m\u001b[0m\n\u001b[1;32m      3\u001b[0m     \u001b[0;32massert\u001b[0m \u001b[0mrow\u001b[0m\u001b[0;34m[\u001b[0m\u001b[0;36m0\u001b[0m\u001b[0;34m]\u001b[0m \u001b[0;34m==\u001b[0m \u001b[0mrow\u001b[0m\u001b[0;34m.\u001b[0m\u001b[0mname\u001b[0m \u001b[0;34m==\u001b[0m \u001b[0mrow\u001b[0m\u001b[0;34m[\u001b[0m\u001b[0;34m'name'\u001b[0m\u001b[0;34m]\u001b[0m\u001b[0;34m\u001b[0m\u001b[0m\n\u001b[1;32m      4\u001b[0m     \u001b[0mprint\u001b[0m\u001b[0;34m(\u001b[0m\u001b[0mrow\u001b[0m\u001b[0;34m)\u001b[0m\u001b[0;34m\u001b[0m\u001b[0m\n",
      "\u001b[0;31mTypeError\u001b[0m: 'QueryResults' object is not iterable"
     ]
    }
   ],
   "source": [
    "for row in query_job:  # API request - fetches results\n",
    "    # Row values can be accessed by field name or index\n",
    "    assert row[0] == row.name == row['name']\n",
    "    print(row)\n"
   ]
  },
  {
   "cell_type": "code",
   "execution_count": 1,
   "metadata": {},
   "outputs": [
    {
     "ename": "ImportError",
     "evalue": "cannot import name 'datastore'",
     "output_type": "error",
     "traceback": [
      "\u001b[0;31m---------------------------------------------------------------------------\u001b[0m",
      "\u001b[0;31mImportError\u001b[0m                               Traceback (most recent call last)",
      "\u001b[0;32m<ipython-input-1-d243bbc64b56>\u001b[0m in \u001b[0;36m<module>\u001b[0;34m()\u001b[0m\n\u001b[0;32m----> 1\u001b[0;31m \u001b[0;32mfrom\u001b[0m \u001b[0mgoogle\u001b[0m\u001b[0;34m.\u001b[0m\u001b[0mcloud\u001b[0m \u001b[0;32mimport\u001b[0m \u001b[0mdatastore\u001b[0m\u001b[0;34m\u001b[0m\u001b[0m\n\u001b[0m\u001b[1;32m      2\u001b[0m \u001b[0;34m\u001b[0m\u001b[0m\n\u001b[1;32m      3\u001b[0m \u001b[0mclient\u001b[0m \u001b[0;34m=\u001b[0m \u001b[0mdatastore\u001b[0m\u001b[0;34m.\u001b[0m\u001b[0mClient\u001b[0m\u001b[0;34m(\u001b[0m\u001b[0;34m)\u001b[0m\u001b[0;34m\u001b[0m\u001b[0m\n\u001b[1;32m      4\u001b[0m \u001b[0mproduct_key\u001b[0m \u001b[0;34m=\u001b[0m \u001b[0mclient\u001b[0m\u001b[0;34m.\u001b[0m\u001b[0mkey\u001b[0m\u001b[0;34m(\u001b[0m\u001b[0;34m'Product'\u001b[0m\u001b[0;34m,\u001b[0m \u001b[0;36m123\u001b[0m\u001b[0;34m)\u001b[0m\u001b[0;34m\u001b[0m\u001b[0m\n\u001b[1;32m      5\u001b[0m \u001b[0mprint\u001b[0m\u001b[0;34m(\u001b[0m\u001b[0mclient\u001b[0m\u001b[0;34m.\u001b[0m\u001b[0mget\u001b[0m\u001b[0;34m(\u001b[0m\u001b[0mproduct_key\u001b[0m\u001b[0;34m)\u001b[0m\u001b[0;34m)\u001b[0m\u001b[0;34m\u001b[0m\u001b[0m\n",
      "\u001b[0;31mImportError\u001b[0m: cannot import name 'datastore'"
     ]
    }
   ],
   "source": [
    "from google.cloud import datastore\n"
   ]
  },
  {
   "cell_type": "code",
   "execution_count": 2,
   "metadata": {},
   "outputs": [
    {
     "ename": "NameError",
     "evalue": "name 'datastore' is not defined",
     "output_type": "error",
     "traceback": [
      "\u001b[0;31m---------------------------------------------------------------------------\u001b[0m",
      "\u001b[0;31mNameError\u001b[0m                                 Traceback (most recent call last)",
      "\u001b[0;32m<ipython-input-2-c27ac156ff6c>\u001b[0m in \u001b[0;36m<module>\u001b[0;34m()\u001b[0m\n\u001b[0;32m----> 1\u001b[0;31m \u001b[0mclient\u001b[0m \u001b[0;34m=\u001b[0m \u001b[0mdatastore\u001b[0m\u001b[0;34m.\u001b[0m\u001b[0mClient\u001b[0m\u001b[0;34m(\u001b[0m\u001b[0;34m)\u001b[0m\u001b[0;34m\u001b[0m\u001b[0m\n\u001b[0m\u001b[1;32m      2\u001b[0m \u001b[0mproduct_key\u001b[0m \u001b[0;34m=\u001b[0m \u001b[0mclient\u001b[0m\u001b[0;34m.\u001b[0m\u001b[0mkey\u001b[0m\u001b[0;34m(\u001b[0m\u001b[0;34m'Product'\u001b[0m\u001b[0;34m,\u001b[0m \u001b[0;36m123\u001b[0m\u001b[0;34m)\u001b[0m\u001b[0;34m\u001b[0m\u001b[0m\n\u001b[1;32m      3\u001b[0m \u001b[0mprint\u001b[0m\u001b[0;34m(\u001b[0m\u001b[0mclient\u001b[0m\u001b[0;34m.\u001b[0m\u001b[0mget\u001b[0m\u001b[0;34m(\u001b[0m\u001b[0mproduct_key\u001b[0m\u001b[0;34m)\u001b[0m\u001b[0;34m)\u001b[0m\u001b[0;34m\u001b[0m\u001b[0m\n",
      "\u001b[0;31mNameError\u001b[0m: name 'datastore' is not defined"
     ]
    }
   ],
   "source": [
    "client = datastore.Client()\n",
    "product_key = client.key('Product', 123)\n",
    "print(client.get(product_key))"
   ]
  },
  {
   "cell_type": "code",
   "execution_count": null,
   "metadata": {
    "collapsed": true
   },
   "outputs": [],
   "source": []
  }
 ],
 "metadata": {
  "kernelspec": {
   "display_name": "Python 3",
   "language": "python",
   "name": "python3"
  },
  "language_info": {
   "codemirror_mode": {
    "name": "ipython",
    "version": 3
   },
   "file_extension": ".py",
   "mimetype": "text/x-python",
   "name": "python",
   "nbconvert_exporter": "python",
   "pygments_lexer": "ipython3",
   "version": "3.6.6"
  },
  "toc": {
   "base_numbering": 1,
   "nav_menu": {},
   "number_sections": true,
   "sideBar": true,
   "skip_h1_title": false,
   "title_cell": "Table of Contents",
   "title_sidebar": "Contents",
   "toc_cell": false,
   "toc_position": {},
   "toc_section_display": "block",
   "toc_window_display": false
  }
 },
 "nbformat": 4,
 "nbformat_minor": 2
}
